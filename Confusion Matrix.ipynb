{
 "cells": [
  {
   "cell_type": "code",
   "execution_count": 8,
   "id": "908fd3f9-f0ec-450c-bb1e-2c92633a2777",
   "metadata": {},
   "outputs": [],
   "source": [
    "# Confusion matrix\n",
    "# Type 1 and Type 2 Error\n",
    "# Accuracy\n",
    "# Precision\n",
    "# Recall\n",
    "# False omission rate\n",
    "# F1-score\n",
    "# MCC or phi coefficient"
   ]
  },
  {
   "cell_type": "code",
   "execution_count": 9,
   "id": "e6876441-bb8c-4095-9120-debe28bd1116",
   "metadata": {},
   "outputs": [],
   "source": [
    "# Example\n",
    "# [TP, FP]\n",
    "# [FN, TN]   "
   ]
  },
  {
   "cell_type": "code",
   "execution_count": 10,
   "id": "df24a1ec-38f3-4946-9e02-8e8167c24e5a",
   "metadata": {},
   "outputs": [],
   "source": [
    "TP = 50\n",
    "FP = 10\n",
    "FN = 5\n",
    "TN = 100"
   ]
  },
  {
   "cell_type": "code",
   "execution_count": 11,
   "id": "673c718d-8761-42f6-b07b-d4b3a4799af6",
   "metadata": {},
   "outputs": [],
   "source": [
    "# Type 1 error is FP.\n",
    "# Type 2 error is FN."
   ]
  },
  {
   "cell_type": "code",
   "execution_count": 14,
   "id": "33245f86-e6d7-4425-8636-9d10a93a62b7",
   "metadata": {},
   "outputs": [
    {
     "name": "stdout",
     "output_type": "stream",
     "text": [
      "Accuracy: 0.91\n"
     ]
    }
   ],
   "source": [
    "# 1. Accuracy\n",
    "accuracy = (TP+TN)/(TP+FP+FN+TN)\n",
    "print(\"Accuracy: {}\".format(round(accuracy, 2)))"
   ]
  },
  {
   "cell_type": "code",
   "execution_count": 15,
   "id": "03f5d26c-dc7b-4791-af5d-beaefb26828f",
   "metadata": {},
   "outputs": [
    {
     "name": "stdout",
     "output_type": "stream",
     "text": [
      "Precision: 0.8333333333333334\n"
     ]
    }
   ],
   "source": [
    "# 2. Preision\n",
    "# Precision is defined based on true positive values \n",
    "# only out of all positive values.\n",
    "precision = TP/(TP+FP)\n",
    "print(f\"Precision: {precision}\")"
   ]
  },
  {
   "cell_type": "code",
   "execution_count": 16,
   "id": "3e1c0c0e-2e01-4c9c-a217-3f80a97ced8c",
   "metadata": {},
   "outputs": [
    {
     "name": "stdout",
     "output_type": "stream",
     "text": [
      "Recall: 0.9090909090909091\n"
     ]
    }
   ],
   "source": [
    "# 3. Recall\n",
    "# It is also known as sensitivity or hit rate or true positive rate. \n",
    "# It tells that how good our estimator or model to predict the positive \n",
    "# values.\n",
    "recall = TP/(TP+FN)\n",
    "print(f\"Recall: {recall}\")"
   ]
  },
  {
   "cell_type": "code",
   "execution_count": 17,
   "id": "c959d26b-7ed4-4530-ad09-de9b5bb1ceed",
   "metadata": {},
   "outputs": [
    {
     "name": "stdout",
     "output_type": "stream",
     "text": [
      "FOR: 0.047619047619047616\n"
     ]
    }
   ],
   "source": [
    "# 4. False omission rate\n",
    "# The false omission rate is defined as the occurrence of false-negative \n",
    "# values to total negative values predicted as false and true.\n",
    "FOR = FN/(FN + TN)\n",
    "print(f\"FOR: {FOR}\")"
   ]
  },
  {
   "cell_type": "code",
   "execution_count": 18,
   "id": "c42c2af0-5039-4484-b2fb-62bd60fa2b7f",
   "metadata": {},
   "outputs": [
    {
     "name": "stdout",
     "output_type": "stream",
     "text": [
      "F1-Score: 0.8695652173913043\n"
     ]
    }
   ],
   "source": [
    "# 5. F1-Score\n",
    "# The F1 score tells the accuracy in terms of precision and recall.\n",
    "f1score = 2*precision*recall/(recall+precision)\n",
    "print(f\"F1-Score: {f1score}\")"
   ]
  },
  {
   "cell_type": "code",
   "execution_count": 20,
   "id": "70a8550a-d926-409f-b77e-2399a6b420b1",
   "metadata": {},
   "outputs": [],
   "source": [
    "import math"
   ]
  },
  {
   "cell_type": "code",
   "execution_count": 27,
   "id": "1eb47627-2f4a-4991-887d-4281df798e43",
   "metadata": {},
   "outputs": [
    {
     "name": "stdout",
     "output_type": "stream",
     "text": [
      "MCC: 4999.991901174488\n"
     ]
    }
   ],
   "source": [
    "# 6. MCC or phi coefficient\n",
    "# This metric is useful in machine learning to know the performance \n",
    "# quality in binary classes.\n",
    "mcc = (TP*TN)-(FP*FN)/math.sqrt((TP+FP)*(TP+FN)*(TN+FP)*(TN+FN))\n",
    "print(f\"MCC: {mcc}\")"
   ]
  },
  {
   "cell_type": "code",
   "execution_count": null,
   "id": "bb7210a5-0c6d-409e-ad84-a692bc573440",
   "metadata": {},
   "outputs": [],
   "source": []
  }
 ],
 "metadata": {
  "kernelspec": {
   "display_name": "Python 3 (ipykernel)",
   "language": "python",
   "name": "python3"
  },
  "language_info": {
   "codemirror_mode": {
    "name": "ipython",
    "version": 3
   },
   "file_extension": ".py",
   "mimetype": "text/x-python",
   "name": "python",
   "nbconvert_exporter": "python",
   "pygments_lexer": "ipython3",
   "version": "3.9.5"
  }
 },
 "nbformat": 4,
 "nbformat_minor": 5
}
